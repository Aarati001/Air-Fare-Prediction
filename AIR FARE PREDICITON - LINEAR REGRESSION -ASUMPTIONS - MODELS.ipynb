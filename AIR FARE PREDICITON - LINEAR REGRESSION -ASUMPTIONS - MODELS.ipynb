{
 "cells": [
  {
   "cell_type": "code",
   "execution_count": 1,
   "metadata": {},
   "outputs": [],
   "source": [
    "import matplotlib.pyplot as plt\n",
    "import seaborn as sns\n",
    "import numpy as np\n",
    "import pandas as pd\n",
    "from sklearn import linear_model\n",
    "from sklearn.linear_model import LinearRegression"
   ]
  },
  {
   "cell_type": "code",
   "execution_count": 2,
   "metadata": {},
   "outputs": [],
   "source": [
    "\n",
    "\n",
    "df = pd.read_table('Airfares.txt', delim_whitespace=True,header=None,\n",
    "                   names=('City1','City2','Average Fare','Distance','Average weekly passengers','market leading airline','market share','Average fare1','Low price airline','market share1','price'))"
   ]
  },
  {
   "cell_type": "code",
   "execution_count": 3,
   "metadata": {},
   "outputs": [
    {
     "data": {
      "text/html": [
       "<div>\n",
       "<style scoped>\n",
       "    .dataframe tbody tr th:only-of-type {\n",
       "        vertical-align: middle;\n",
       "    }\n",
       "\n",
       "    .dataframe tbody tr th {\n",
       "        vertical-align: top;\n",
       "    }\n",
       "\n",
       "    .dataframe thead th {\n",
       "        text-align: right;\n",
       "    }\n",
       "</style>\n",
       "<table border=\"1\" class=\"dataframe\">\n",
       "  <thead>\n",
       "    <tr style=\"text-align: right;\">\n",
       "      <th></th>\n",
       "      <th>City1</th>\n",
       "      <th>City2</th>\n",
       "      <th>Average Fare</th>\n",
       "      <th>Distance</th>\n",
       "      <th>Average weekly passengers</th>\n",
       "      <th>market leading airline</th>\n",
       "      <th>market share</th>\n",
       "      <th>Average fare1</th>\n",
       "      <th>Low price airline</th>\n",
       "      <th>market share1</th>\n",
       "      <th>price</th>\n",
       "    </tr>\n",
       "  </thead>\n",
       "  <tbody>\n",
       "    <tr>\n",
       "      <th>0</th>\n",
       "      <td>CAK</td>\n",
       "      <td>ATL</td>\n",
       "      <td>114.47</td>\n",
       "      <td>528</td>\n",
       "      <td>424.56</td>\n",
       "      <td>FL</td>\n",
       "      <td>70.19</td>\n",
       "      <td>111.03</td>\n",
       "      <td>FL</td>\n",
       "      <td>70.19</td>\n",
       "      <td>111.03</td>\n",
       "    </tr>\n",
       "    <tr>\n",
       "      <th>1</th>\n",
       "      <td>CAK</td>\n",
       "      <td>MCO</td>\n",
       "      <td>122.47</td>\n",
       "      <td>860</td>\n",
       "      <td>276.84</td>\n",
       "      <td>FL</td>\n",
       "      <td>75.10</td>\n",
       "      <td>123.09</td>\n",
       "      <td>DL</td>\n",
       "      <td>17.23</td>\n",
       "      <td>118.94</td>\n",
       "    </tr>\n",
       "    <tr>\n",
       "      <th>2</th>\n",
       "      <td>ALB</td>\n",
       "      <td>ATL</td>\n",
       "      <td>214.42</td>\n",
       "      <td>852</td>\n",
       "      <td>215.76</td>\n",
       "      <td>DL</td>\n",
       "      <td>78.89</td>\n",
       "      <td>223.98</td>\n",
       "      <td>CO</td>\n",
       "      <td>2.77</td>\n",
       "      <td>167.12</td>\n",
       "    </tr>\n",
       "    <tr>\n",
       "      <th>3</th>\n",
       "      <td>ALB</td>\n",
       "      <td>BWI</td>\n",
       "      <td>69.40</td>\n",
       "      <td>288</td>\n",
       "      <td>606.84</td>\n",
       "      <td>WN</td>\n",
       "      <td>96.97</td>\n",
       "      <td>68.86</td>\n",
       "      <td>WN</td>\n",
       "      <td>96.97</td>\n",
       "      <td>68.86</td>\n",
       "    </tr>\n",
       "    <tr>\n",
       "      <th>4</th>\n",
       "      <td>ALB</td>\n",
       "      <td>ORD</td>\n",
       "      <td>158.13</td>\n",
       "      <td>723</td>\n",
       "      <td>313.04</td>\n",
       "      <td>UA</td>\n",
       "      <td>39.79</td>\n",
       "      <td>161.36</td>\n",
       "      <td>WN</td>\n",
       "      <td>15.34</td>\n",
       "      <td>145.42</td>\n",
       "    </tr>\n",
       "  </tbody>\n",
       "</table>\n",
       "</div>"
      ],
      "text/plain": [
       "  City1 City2  Average Fare  Distance  Average weekly passengers  \\\n",
       "0   CAK   ATL        114.47       528                     424.56   \n",
       "1   CAK   MCO        122.47       860                     276.84   \n",
       "2   ALB   ATL        214.42       852                     215.76   \n",
       "3   ALB   BWI         69.40       288                     606.84   \n",
       "4   ALB   ORD        158.13       723                     313.04   \n",
       "\n",
       "  market leading airline  market share  Average fare1 Low price airline  \\\n",
       "0                     FL         70.19         111.03                FL   \n",
       "1                     FL         75.10         123.09                DL   \n",
       "2                     DL         78.89         223.98                CO   \n",
       "3                     WN         96.97          68.86                WN   \n",
       "4                     UA         39.79         161.36                WN   \n",
       "\n",
       "   market share1   price  \n",
       "0          70.19  111.03  \n",
       "1          17.23  118.94  \n",
       "2           2.77  167.12  \n",
       "3          96.97   68.86  \n",
       "4          15.34  145.42  "
      ]
     },
     "execution_count": 3,
     "metadata": {},
     "output_type": "execute_result"
    }
   ],
   "source": [
    "df.head()"
   ]
  },
  {
   "cell_type": "code",
   "execution_count": 4,
   "metadata": {},
   "outputs": [
    {
     "data": {
      "text/plain": [
       "(1000, 11)"
      ]
     },
     "execution_count": 4,
     "metadata": {},
     "output_type": "execute_result"
    }
   ],
   "source": [
    "df.shape"
   ]
  },
  {
   "cell_type": "code",
   "execution_count": 5,
   "metadata": {},
   "outputs": [
    {
     "data": {
      "text/plain": [
       "Index(['City1', 'City2', 'Average Fare', 'Distance',\n",
       "       'Average weekly passengers', 'market leading airline', 'market share',\n",
       "       'Average fare1', 'Low price airline', 'market share1', 'price'],\n",
       "      dtype='object')"
      ]
     },
     "execution_count": 5,
     "metadata": {},
     "output_type": "execute_result"
    }
   ],
   "source": [
    "df.columns"
   ]
  },
  {
   "cell_type": "code",
   "execution_count": 6,
   "metadata": {},
   "outputs": [
    {
     "data": {
      "text/plain": [
       "<bound method NDFrame.describe of     City1 City2  Average Fare  Distance  Average weekly passengers  \\\n",
       "0     CAK   ATL        114.47       528                     424.56   \n",
       "1     CAK   MCO        122.47       860                     276.84   \n",
       "2     ALB   ATL        214.42       852                     215.76   \n",
       "3     ALB   BWI         69.40       288                     606.84   \n",
       "4     ALB   ORD        158.13       723                     313.04   \n",
       "..    ...   ...           ...       ...                        ...   \n",
       "995   SYR   TPA        136.16      1104                     184.34   \n",
       "996   TLH   TPA         83.28       200                     232.71   \n",
       "997   TPA   IAD        159.97       814                     843.80   \n",
       "998   TPA   PBI         73.57       174                     214.45   \n",
       "999   IAD   PBI        126.67       859                     475.65   \n",
       "\n",
       "    market leading airline  market share  Average fare1 Low price airline  \\\n",
       "0                       FL         70.19         111.03                FL   \n",
       "1                       FL         75.10         123.09                DL   \n",
       "2                       DL         78.89         223.98                CO   \n",
       "3                       WN         96.97          68.86                WN   \n",
       "4                       UA         39.79         161.36                WN   \n",
       "..                     ...           ...            ...               ...   \n",
       "995                     US         33.37         135.82                DL   \n",
       "996                     FL         99.57          82.55                FL   \n",
       "997                     US         46.19         159.65                DL   \n",
       "998                     WN         99.74          73.44                WN   \n",
       "999                     US         56.28         129.92                DL   \n",
       "\n",
       "     market share1   price  \n",
       "0            70.19  111.03  \n",
       "1            17.23  118.94  \n",
       "2             2.77  167.12  \n",
       "3            96.97   68.86  \n",
       "4            15.34  145.42  \n",
       "..             ...     ...  \n",
       "995          28.65  118.51  \n",
       "996          99.57   82.55  \n",
       "997          13.89  159.02  \n",
       "998          99.74   73.44  \n",
       "999          38.57  121.94  \n",
       "\n",
       "[1000 rows x 11 columns]>"
      ]
     },
     "execution_count": 6,
     "metadata": {},
     "output_type": "execute_result"
    }
   ],
   "source": [
    "df.describe"
   ]
  },
  {
   "cell_type": "code",
   "execution_count": 7,
   "metadata": {},
   "outputs": [
    {
     "name": "stdout",
     "output_type": "stream",
     "text": [
      "<class 'pandas.core.frame.DataFrame'>\n",
      "RangeIndex: 1000 entries, 0 to 999\n",
      "Data columns (total 11 columns):\n",
      "City1                        1000 non-null object\n",
      "City2                        1000 non-null object\n",
      "Average Fare                 1000 non-null float64\n",
      "Distance                     1000 non-null int64\n",
      "Average weekly passengers    1000 non-null float64\n",
      "market leading airline       1000 non-null object\n",
      "market share                 1000 non-null float64\n",
      "Average fare1                1000 non-null float64\n",
      "Low price airline            1000 non-null object\n",
      "market share1                1000 non-null float64\n",
      "price                        1000 non-null float64\n",
      "dtypes: float64(6), int64(1), object(4)\n",
      "memory usage: 86.1+ KB\n"
     ]
    }
   ],
   "source": [
    "df.info()"
   ]
  },
  {
   "cell_type": "code",
   "execution_count": 8,
   "metadata": {},
   "outputs": [
    {
     "data": {
      "text/plain": [
       "City1                        0\n",
       "City2                        0\n",
       "Average Fare                 0\n",
       "Distance                     0\n",
       "Average weekly passengers    0\n",
       "market leading airline       0\n",
       "market share                 0\n",
       "Average fare1                0\n",
       "Low price airline            0\n",
       "market share1                0\n",
       "price                        0\n",
       "dtype: int64"
      ]
     },
     "execution_count": 8,
     "metadata": {},
     "output_type": "execute_result"
    }
   ],
   "source": [
    "df.isnull().sum()"
   ]
  },
  {
   "cell_type": "code",
   "execution_count": 9,
   "metadata": {},
   "outputs": [
    {
     "data": {
      "text/plain": [
       "City1                        0\n",
       "City2                        0\n",
       "Average Fare                 0\n",
       "Distance                     0\n",
       "Average weekly passengers    0\n",
       "market leading airline       0\n",
       "market share                 0\n",
       "Average fare1                0\n",
       "Low price airline            0\n",
       "market share1                0\n",
       "price                        0\n",
       "dtype: int64"
      ]
     },
     "execution_count": 9,
     "metadata": {},
     "output_type": "execute_result"
    }
   ],
   "source": [
    "df.isna().sum()"
   ]
  },
  {
   "cell_type": "code",
   "execution_count": 10,
   "metadata": {},
   "outputs": [
    {
     "data": {
      "text/plain": [
       "City1                         object\n",
       "City2                         object\n",
       "Average Fare                 float64\n",
       "Distance                       int64\n",
       "Average weekly passengers    float64\n",
       "market leading airline        object\n",
       "market share                 float64\n",
       "Average fare1                float64\n",
       "Low price airline             object\n",
       "market share1                float64\n",
       "price                        float64\n",
       "dtype: object"
      ]
     },
     "execution_count": 10,
     "metadata": {},
     "output_type": "execute_result"
    }
   ],
   "source": [
    "df.dtypes"
   ]
  },
  {
   "cell_type": "code",
   "execution_count": 11,
   "metadata": {},
   "outputs": [
    {
     "data": {
      "text/plain": [
       "ATL    64\n",
       "ORD    63\n",
       "DFW    52\n",
       "BWI    47\n",
       "IAH    38\n",
       "       ..\n",
       "TLH     1\n",
       "IAD     1\n",
       "SYR     1\n",
       "ROC     1\n",
       "PHF     1\n",
       "Name: City1, Length: 90, dtype: int64"
      ]
     },
     "execution_count": 11,
     "metadata": {},
     "output_type": "execute_result"
    }
   ],
   "source": [
    "df['City1'].value_counts()"
   ]
  },
  {
   "cell_type": "code",
   "execution_count": 12,
   "metadata": {},
   "outputs": [
    {
     "data": {
      "text/plain": [
       "Index(['City1', 'City2', 'market leading airline', 'Low price airline'], dtype='object')"
      ]
     },
     "execution_count": 12,
     "metadata": {},
     "output_type": "execute_result"
    }
   ],
   "source": [
    "categorical=df.select_dtypes(include=['object'])\n",
    "categorical.columns"
   ]
  },
  {
   "cell_type": "code",
   "execution_count": 13,
   "metadata": {},
   "outputs": [],
   "source": [
    "from sklearn.preprocessing import LabelEncoder\n"
   ]
  },
  {
   "cell_type": "code",
   "execution_count": 14,
   "metadata": {},
   "outputs": [
    {
     "data": {
      "text/html": [
       "<div>\n",
       "<style scoped>\n",
       "    .dataframe tbody tr th:only-of-type {\n",
       "        vertical-align: middle;\n",
       "    }\n",
       "\n",
       "    .dataframe tbody tr th {\n",
       "        vertical-align: top;\n",
       "    }\n",
       "\n",
       "    .dataframe thead th {\n",
       "        text-align: right;\n",
       "    }\n",
       "</style>\n",
       "<table border=\"1\" class=\"dataframe\">\n",
       "  <thead>\n",
       "    <tr style=\"text-align: right;\">\n",
       "      <th></th>\n",
       "      <th>City1</th>\n",
       "      <th>City2</th>\n",
       "      <th>market leading airline</th>\n",
       "      <th>Low price airline</th>\n",
       "    </tr>\n",
       "  </thead>\n",
       "  <tbody>\n",
       "    <tr>\n",
       "      <th>0</th>\n",
       "      <td>16</td>\n",
       "      <td>0</td>\n",
       "      <td>6</td>\n",
       "      <td>8</td>\n",
       "    </tr>\n",
       "    <tr>\n",
       "      <th>1</th>\n",
       "      <td>16</td>\n",
       "      <td>40</td>\n",
       "      <td>6</td>\n",
       "      <td>6</td>\n",
       "    </tr>\n",
       "    <tr>\n",
       "      <th>2</th>\n",
       "      <td>2</td>\n",
       "      <td>0</td>\n",
       "      <td>4</td>\n",
       "      <td>5</td>\n",
       "    </tr>\n",
       "    <tr>\n",
       "      <th>3</th>\n",
       "      <td>2</td>\n",
       "      <td>7</td>\n",
       "      <td>14</td>\n",
       "      <td>17</td>\n",
       "    </tr>\n",
       "    <tr>\n",
       "      <th>4</th>\n",
       "      <td>2</td>\n",
       "      <td>52</td>\n",
       "      <td>12</td>\n",
       "      <td>17</td>\n",
       "    </tr>\n",
       "  </tbody>\n",
       "</table>\n",
       "</div>"
      ],
      "text/plain": [
       "   City1  City2  market leading airline  Low price airline\n",
       "0     16      0                       6                  8\n",
       "1     16     40                       6                  6\n",
       "2      2      0                       4                  5\n",
       "3      2      7                      14                 17\n",
       "4      2     52                      12                 17"
      ]
     },
     "execution_count": 14,
     "metadata": {},
     "output_type": "execute_result"
    }
   ],
   "source": [
    "le=LabelEncoder()\n",
    "df_cat=categorical.apply(le.fit_transform)\n",
    "df_cat.head()"
   ]
  },
  {
   "cell_type": "code",
   "execution_count": 15,
   "metadata": {},
   "outputs": [],
   "source": [
    "df=df.drop(categorical.columns,axis=1)"
   ]
  },
  {
   "cell_type": "code",
   "execution_count": 16,
   "metadata": {},
   "outputs": [],
   "source": [
    "df=pd.concat([df,df_cat],axis=1)"
   ]
  },
  {
   "cell_type": "code",
   "execution_count": 17,
   "metadata": {},
   "outputs": [
    {
     "data": {
      "text/html": [
       "<div>\n",
       "<style scoped>\n",
       "    .dataframe tbody tr th:only-of-type {\n",
       "        vertical-align: middle;\n",
       "    }\n",
       "\n",
       "    .dataframe tbody tr th {\n",
       "        vertical-align: top;\n",
       "    }\n",
       "\n",
       "    .dataframe thead th {\n",
       "        text-align: right;\n",
       "    }\n",
       "</style>\n",
       "<table border=\"1\" class=\"dataframe\">\n",
       "  <thead>\n",
       "    <tr style=\"text-align: right;\">\n",
       "      <th></th>\n",
       "      <th>Average Fare</th>\n",
       "      <th>Distance</th>\n",
       "      <th>Average weekly passengers</th>\n",
       "      <th>market share</th>\n",
       "      <th>Average fare1</th>\n",
       "      <th>market share1</th>\n",
       "      <th>price</th>\n",
       "      <th>City1</th>\n",
       "      <th>City2</th>\n",
       "      <th>market leading airline</th>\n",
       "      <th>Low price airline</th>\n",
       "    </tr>\n",
       "  </thead>\n",
       "  <tbody>\n",
       "    <tr>\n",
       "      <th>0</th>\n",
       "      <td>114.47</td>\n",
       "      <td>528</td>\n",
       "      <td>424.56</td>\n",
       "      <td>70.19</td>\n",
       "      <td>111.03</td>\n",
       "      <td>70.19</td>\n",
       "      <td>111.03</td>\n",
       "      <td>16</td>\n",
       "      <td>0</td>\n",
       "      <td>6</td>\n",
       "      <td>8</td>\n",
       "    </tr>\n",
       "    <tr>\n",
       "      <th>1</th>\n",
       "      <td>122.47</td>\n",
       "      <td>860</td>\n",
       "      <td>276.84</td>\n",
       "      <td>75.10</td>\n",
       "      <td>123.09</td>\n",
       "      <td>17.23</td>\n",
       "      <td>118.94</td>\n",
       "      <td>16</td>\n",
       "      <td>40</td>\n",
       "      <td>6</td>\n",
       "      <td>6</td>\n",
       "    </tr>\n",
       "    <tr>\n",
       "      <th>2</th>\n",
       "      <td>214.42</td>\n",
       "      <td>852</td>\n",
       "      <td>215.76</td>\n",
       "      <td>78.89</td>\n",
       "      <td>223.98</td>\n",
       "      <td>2.77</td>\n",
       "      <td>167.12</td>\n",
       "      <td>2</td>\n",
       "      <td>0</td>\n",
       "      <td>4</td>\n",
       "      <td>5</td>\n",
       "    </tr>\n",
       "    <tr>\n",
       "      <th>3</th>\n",
       "      <td>69.40</td>\n",
       "      <td>288</td>\n",
       "      <td>606.84</td>\n",
       "      <td>96.97</td>\n",
       "      <td>68.86</td>\n",
       "      <td>96.97</td>\n",
       "      <td>68.86</td>\n",
       "      <td>2</td>\n",
       "      <td>7</td>\n",
       "      <td>14</td>\n",
       "      <td>17</td>\n",
       "    </tr>\n",
       "    <tr>\n",
       "      <th>4</th>\n",
       "      <td>158.13</td>\n",
       "      <td>723</td>\n",
       "      <td>313.04</td>\n",
       "      <td>39.79</td>\n",
       "      <td>161.36</td>\n",
       "      <td>15.34</td>\n",
       "      <td>145.42</td>\n",
       "      <td>2</td>\n",
       "      <td>52</td>\n",
       "      <td>12</td>\n",
       "      <td>17</td>\n",
       "    </tr>\n",
       "  </tbody>\n",
       "</table>\n",
       "</div>"
      ],
      "text/plain": [
       "   Average Fare  Distance  Average weekly passengers  market share  \\\n",
       "0        114.47       528                     424.56         70.19   \n",
       "1        122.47       860                     276.84         75.10   \n",
       "2        214.42       852                     215.76         78.89   \n",
       "3         69.40       288                     606.84         96.97   \n",
       "4        158.13       723                     313.04         39.79   \n",
       "\n",
       "   Average fare1  market share1   price  City1  City2  market leading airline  \\\n",
       "0         111.03          70.19  111.03     16      0                       6   \n",
       "1         123.09          17.23  118.94     16     40                       6   \n",
       "2         223.98           2.77  167.12      2      0                       4   \n",
       "3          68.86          96.97   68.86      2      7                      14   \n",
       "4         161.36          15.34  145.42      2     52                      12   \n",
       "\n",
       "   Low price airline  \n",
       "0                  8  \n",
       "1                  6  \n",
       "2                  5  \n",
       "3                 17  \n",
       "4                 17  "
      ]
     },
     "execution_count": 17,
     "metadata": {},
     "output_type": "execute_result"
    }
   ],
   "source": [
    "df.head()"
   ]
  },
  {
   "cell_type": "code",
   "execution_count": 18,
   "metadata": {},
   "outputs": [
    {
     "data": {
      "text/plain": [
       "Average Fare                 float64\n",
       "Distance                       int64\n",
       "Average weekly passengers    float64\n",
       "market share                 float64\n",
       "Average fare1                float64\n",
       "market share1                float64\n",
       "price                        float64\n",
       "City1                          int32\n",
       "City2                          int32\n",
       "market leading airline         int32\n",
       "Low price airline              int32\n",
       "dtype: object"
      ]
     },
     "execution_count": 18,
     "metadata": {},
     "output_type": "execute_result"
    }
   ],
   "source": [
    "df.dtypes"
   ]
  },
  {
   "cell_type": "code",
   "execution_count": 19,
   "metadata": {},
   "outputs": [
    {
     "data": {
      "text/html": [
       "<div>\n",
       "<style scoped>\n",
       "    .dataframe tbody tr th:only-of-type {\n",
       "        vertical-align: middle;\n",
       "    }\n",
       "\n",
       "    .dataframe tbody tr th {\n",
       "        vertical-align: top;\n",
       "    }\n",
       "\n",
       "    .dataframe thead th {\n",
       "        text-align: right;\n",
       "    }\n",
       "</style>\n",
       "<table border=\"1\" class=\"dataframe\">\n",
       "  <thead>\n",
       "    <tr style=\"text-align: right;\">\n",
       "      <th></th>\n",
       "      <th>Distance</th>\n",
       "      <th>Average weekly passengers</th>\n",
       "      <th>market share</th>\n",
       "      <th>Average fare1</th>\n",
       "      <th>market share1</th>\n",
       "      <th>price</th>\n",
       "    </tr>\n",
       "  </thead>\n",
       "  <tbody>\n",
       "    <tr>\n",
       "      <th>0</th>\n",
       "      <td>528</td>\n",
       "      <td>424.56</td>\n",
       "      <td>70.19</td>\n",
       "      <td>111.03</td>\n",
       "      <td>70.19</td>\n",
       "      <td>111.03</td>\n",
       "    </tr>\n",
       "    <tr>\n",
       "      <th>1</th>\n",
       "      <td>860</td>\n",
       "      <td>276.84</td>\n",
       "      <td>75.10</td>\n",
       "      <td>123.09</td>\n",
       "      <td>17.23</td>\n",
       "      <td>118.94</td>\n",
       "    </tr>\n",
       "    <tr>\n",
       "      <th>2</th>\n",
       "      <td>852</td>\n",
       "      <td>215.76</td>\n",
       "      <td>78.89</td>\n",
       "      <td>223.98</td>\n",
       "      <td>2.77</td>\n",
       "      <td>167.12</td>\n",
       "    </tr>\n",
       "    <tr>\n",
       "      <th>3</th>\n",
       "      <td>288</td>\n",
       "      <td>606.84</td>\n",
       "      <td>96.97</td>\n",
       "      <td>68.86</td>\n",
       "      <td>96.97</td>\n",
       "      <td>68.86</td>\n",
       "    </tr>\n",
       "    <tr>\n",
       "      <th>4</th>\n",
       "      <td>723</td>\n",
       "      <td>313.04</td>\n",
       "      <td>39.79</td>\n",
       "      <td>161.36</td>\n",
       "      <td>15.34</td>\n",
       "      <td>145.42</td>\n",
       "    </tr>\n",
       "  </tbody>\n",
       "</table>\n",
       "</div>"
      ],
      "text/plain": [
       "   Distance  Average weekly passengers  market share  Average fare1  \\\n",
       "0       528                     424.56         70.19         111.03   \n",
       "1       860                     276.84         75.10         123.09   \n",
       "2       852                     215.76         78.89         223.98   \n",
       "3       288                     606.84         96.97          68.86   \n",
       "4       723                     313.04         39.79         161.36   \n",
       "\n",
       "   market share1   price  \n",
       "0          70.19  111.03  \n",
       "1          17.23  118.94  \n",
       "2           2.77  167.12  \n",
       "3          96.97   68.86  \n",
       "4          15.34  145.42  "
      ]
     },
     "execution_count": 19,
     "metadata": {},
     "output_type": "execute_result"
    }
   ],
   "source": [
    "scale_df = df.drop(['Average Fare','City1','City2','market leading airline','Low price airline'],axis=1)\n",
    "scale_df.head()"
   ]
  },
  {
   "cell_type": "code",
   "execution_count": 20,
   "metadata": {},
   "outputs": [],
   "source": [
    "from scipy.stats import zscore"
   ]
  },
  {
   "cell_type": "code",
   "execution_count": 21,
   "metadata": {},
   "outputs": [
    {
     "data": {
      "text/html": [
       "<div>\n",
       "<style scoped>\n",
       "    .dataframe tbody tr th:only-of-type {\n",
       "        vertical-align: middle;\n",
       "    }\n",
       "\n",
       "    .dataframe tbody tr th {\n",
       "        vertical-align: top;\n",
       "    }\n",
       "\n",
       "    .dataframe thead th {\n",
       "        text-align: right;\n",
       "    }\n",
       "</style>\n",
       "<table border=\"1\" class=\"dataframe\">\n",
       "  <thead>\n",
       "    <tr style=\"text-align: right;\">\n",
       "      <th></th>\n",
       "      <th>Distance</th>\n",
       "      <th>Average weekly passengers</th>\n",
       "      <th>market share</th>\n",
       "      <th>Average fare1</th>\n",
       "      <th>market share1</th>\n",
       "      <th>price</th>\n",
       "    </tr>\n",
       "  </thead>\n",
       "  <tbody>\n",
       "    <tr>\n",
       "      <th>0</th>\n",
       "      <td>-0.822816</td>\n",
       "      <td>-0.323336</td>\n",
       "      <td>0.519752</td>\n",
       "      <td>-0.888051</td>\n",
       "      <td>1.315878</td>\n",
       "      <td>-0.681341</td>\n",
       "    </tr>\n",
       "    <tr>\n",
       "      <th>1</th>\n",
       "      <td>-0.306391</td>\n",
       "      <td>-0.516148</td>\n",
       "      <td>0.773393</td>\n",
       "      <td>-0.695488</td>\n",
       "      <td>-0.639560</td>\n",
       "      <td>-0.513776</td>\n",
       "    </tr>\n",
       "    <tr>\n",
       "      <th>2</th>\n",
       "      <td>-0.318835</td>\n",
       "      <td>-0.595872</td>\n",
       "      <td>0.969177</td>\n",
       "      <td>0.915432</td>\n",
       "      <td>-1.173465</td>\n",
       "      <td>0.506866</td>\n",
       "    </tr>\n",
       "    <tr>\n",
       "      <th>3</th>\n",
       "      <td>-1.196135</td>\n",
       "      <td>-0.085415</td>\n",
       "      <td>1.903153</td>\n",
       "      <td>-1.561383</td>\n",
       "      <td>2.304674</td>\n",
       "      <td>-1.574668</td>\n",
       "    </tr>\n",
       "    <tr>\n",
       "      <th>4</th>\n",
       "      <td>-0.519494</td>\n",
       "      <td>-0.468897</td>\n",
       "      <td>-1.050651</td>\n",
       "      <td>-0.084427</td>\n",
       "      <td>-0.709344</td>\n",
       "      <td>0.047175</td>\n",
       "    </tr>\n",
       "  </tbody>\n",
       "</table>\n",
       "</div>"
      ],
      "text/plain": [
       "   Distance  Average weekly passengers  market share  Average fare1  \\\n",
       "0 -0.822816                  -0.323336      0.519752      -0.888051   \n",
       "1 -0.306391                  -0.516148      0.773393      -0.695488   \n",
       "2 -0.318835                  -0.595872      0.969177       0.915432   \n",
       "3 -1.196135                  -0.085415      1.903153      -1.561383   \n",
       "4 -0.519494                  -0.468897     -1.050651      -0.084427   \n",
       "\n",
       "   market share1     price  \n",
       "0       1.315878 -0.681341  \n",
       "1      -0.639560 -0.513776  \n",
       "2      -1.173465  0.506866  \n",
       "3       2.304674 -1.574668  \n",
       "4      -0.709344  0.047175  "
      ]
     },
     "execution_count": 21,
     "metadata": {},
     "output_type": "execute_result"
    }
   ],
   "source": [
    "scale_df=scale_df.apply(zscore)\n",
    "scale_df.head()"
   ]
  },
  {
   "cell_type": "code",
   "execution_count": 22,
   "metadata": {},
   "outputs": [],
   "source": [
    "df=df.drop(['Distance', 'Average weekly passengers', 'market share',\n",
    "       'Average fare1', 'market share1', 'price'],axis=1)"
   ]
  },
  {
   "cell_type": "code",
   "execution_count": 23,
   "metadata": {},
   "outputs": [
    {
     "data": {
      "text/html": [
       "<div>\n",
       "<style scoped>\n",
       "    .dataframe tbody tr th:only-of-type {\n",
       "        vertical-align: middle;\n",
       "    }\n",
       "\n",
       "    .dataframe tbody tr th {\n",
       "        vertical-align: top;\n",
       "    }\n",
       "\n",
       "    .dataframe thead th {\n",
       "        text-align: right;\n",
       "    }\n",
       "</style>\n",
       "<table border=\"1\" class=\"dataframe\">\n",
       "  <thead>\n",
       "    <tr style=\"text-align: right;\">\n",
       "      <th></th>\n",
       "      <th>Average Fare</th>\n",
       "      <th>City1</th>\n",
       "      <th>City2</th>\n",
       "      <th>market leading airline</th>\n",
       "      <th>Low price airline</th>\n",
       "      <th>Distance</th>\n",
       "      <th>Average weekly passengers</th>\n",
       "      <th>market share</th>\n",
       "      <th>Average fare1</th>\n",
       "      <th>market share1</th>\n",
       "      <th>price</th>\n",
       "    </tr>\n",
       "  </thead>\n",
       "  <tbody>\n",
       "    <tr>\n",
       "      <th>0</th>\n",
       "      <td>114.47</td>\n",
       "      <td>16</td>\n",
       "      <td>0</td>\n",
       "      <td>6</td>\n",
       "      <td>8</td>\n",
       "      <td>-0.822816</td>\n",
       "      <td>-0.323336</td>\n",
       "      <td>0.519752</td>\n",
       "      <td>-0.888051</td>\n",
       "      <td>1.315878</td>\n",
       "      <td>-0.681341</td>\n",
       "    </tr>\n",
       "    <tr>\n",
       "      <th>1</th>\n",
       "      <td>122.47</td>\n",
       "      <td>16</td>\n",
       "      <td>40</td>\n",
       "      <td>6</td>\n",
       "      <td>6</td>\n",
       "      <td>-0.306391</td>\n",
       "      <td>-0.516148</td>\n",
       "      <td>0.773393</td>\n",
       "      <td>-0.695488</td>\n",
       "      <td>-0.639560</td>\n",
       "      <td>-0.513776</td>\n",
       "    </tr>\n",
       "    <tr>\n",
       "      <th>2</th>\n",
       "      <td>214.42</td>\n",
       "      <td>2</td>\n",
       "      <td>0</td>\n",
       "      <td>4</td>\n",
       "      <td>5</td>\n",
       "      <td>-0.318835</td>\n",
       "      <td>-0.595872</td>\n",
       "      <td>0.969177</td>\n",
       "      <td>0.915432</td>\n",
       "      <td>-1.173465</td>\n",
       "      <td>0.506866</td>\n",
       "    </tr>\n",
       "    <tr>\n",
       "      <th>3</th>\n",
       "      <td>69.40</td>\n",
       "      <td>2</td>\n",
       "      <td>7</td>\n",
       "      <td>14</td>\n",
       "      <td>17</td>\n",
       "      <td>-1.196135</td>\n",
       "      <td>-0.085415</td>\n",
       "      <td>1.903153</td>\n",
       "      <td>-1.561383</td>\n",
       "      <td>2.304674</td>\n",
       "      <td>-1.574668</td>\n",
       "    </tr>\n",
       "    <tr>\n",
       "      <th>4</th>\n",
       "      <td>158.13</td>\n",
       "      <td>2</td>\n",
       "      <td>52</td>\n",
       "      <td>12</td>\n",
       "      <td>17</td>\n",
       "      <td>-0.519494</td>\n",
       "      <td>-0.468897</td>\n",
       "      <td>-1.050651</td>\n",
       "      <td>-0.084427</td>\n",
       "      <td>-0.709344</td>\n",
       "      <td>0.047175</td>\n",
       "    </tr>\n",
       "  </tbody>\n",
       "</table>\n",
       "</div>"
      ],
      "text/plain": [
       "   Average Fare  City1  City2  market leading airline  Low price airline  \\\n",
       "0        114.47     16      0                       6                  8   \n",
       "1        122.47     16     40                       6                  6   \n",
       "2        214.42      2      0                       4                  5   \n",
       "3         69.40      2      7                      14                 17   \n",
       "4        158.13      2     52                      12                 17   \n",
       "\n",
       "   Distance  Average weekly passengers  market share  Average fare1  \\\n",
       "0 -0.822816                  -0.323336      0.519752      -0.888051   \n",
       "1 -0.306391                  -0.516148      0.773393      -0.695488   \n",
       "2 -0.318835                  -0.595872      0.969177       0.915432   \n",
       "3 -1.196135                  -0.085415      1.903153      -1.561383   \n",
       "4 -0.519494                  -0.468897     -1.050651      -0.084427   \n",
       "\n",
       "   market share1     price  \n",
       "0       1.315878 -0.681341  \n",
       "1      -0.639560 -0.513776  \n",
       "2      -1.173465  0.506866  \n",
       "3       2.304674 -1.574668  \n",
       "4      -0.709344  0.047175  "
      ]
     },
     "execution_count": 23,
     "metadata": {},
     "output_type": "execute_result"
    }
   ],
   "source": [
    "df=pd.concat([df,scale_df],axis=1)\n",
    "df.head()"
   ]
  },
  {
   "cell_type": "code",
   "execution_count": 24,
   "metadata": {},
   "outputs": [
    {
     "data": {
      "text/plain": [
       "(1000, 11)"
      ]
     },
     "execution_count": 24,
     "metadata": {},
     "output_type": "execute_result"
    }
   ],
   "source": [
    "df.shape"
   ]
  },
  {
   "cell_type": "code",
   "execution_count": 25,
   "metadata": {},
   "outputs": [],
   "source": [
    "x=df.drop(\"Average Fare\",axis=1)\n",
    "y=df[\"Average Fare\"]"
   ]
  },
  {
   "cell_type": "code",
   "execution_count": 26,
   "metadata": {},
   "outputs": [],
   "source": [
    "from sklearn.model_selection import train_test_split\n",
    "x_train,x_test,y_train,y_test=train_test_split(x,y,train_size=0.7,test_size=0.3,random_state=100)"
   ]
  },
  {
   "cell_type": "code",
   "execution_count": 27,
   "metadata": {},
   "outputs": [
    {
     "name": "stderr",
     "output_type": "stream",
     "text": [
      "C:\\Users\\RAMASAMY\\Anaconda3\\lib\\site-packages\\numpy\\core\\fromnumeric.py:2389: FutureWarning: Method .ptp is deprecated and will be removed in a future version. Use numpy.ptp instead.\n",
      "  return ptp(axis=axis, out=out, **kwargs)\n"
     ]
    }
   ],
   "source": [
    "import statsmodels.api as sm\n",
    "X=sm.add_constant(x_train)\n",
    "lm = sm.OLS(y_train, X).fit()"
   ]
  },
  {
   "cell_type": "code",
   "execution_count": 28,
   "metadata": {},
   "outputs": [
    {
     "name": "stdout",
     "output_type": "stream",
     "text": [
      "                            OLS Regression Results                            \n",
      "==============================================================================\n",
      "Dep. Variable:           Average Fare   R-squared:                       0.975\n",
      "Model:                            OLS   Adj. R-squared:                  0.974\n",
      "Method:                 Least Squares   F-statistic:                     2636.\n",
      "Date:                Sat, 07 Sep 2019   Prob (F-statistic):               0.00\n",
      "Time:                        15:11:19   Log-Likelihood:                -2513.4\n",
      "No. Observations:                 700   AIC:                             5049.\n",
      "Df Residuals:                     689   BIC:                             5099.\n",
      "Df Model:                          10                                         \n",
      "Covariance Type:            nonrobust                                         \n",
      "=============================================================================================\n",
      "                                coef    std err          t      P>|t|      [0.025      0.975]\n",
      "---------------------------------------------------------------------------------------------\n",
      "const                       165.9591      1.145    144.964      0.000     163.711     168.207\n",
      "City1                         0.0211      0.015      1.410      0.159      -0.008       0.051\n",
      "City2                        -0.0445      0.016     -2.730      0.007      -0.077      -0.012\n",
      "market leading airline       -0.3158      0.069     -4.581      0.000      -0.451      -0.180\n",
      "Low price airline             0.1473      0.059      2.478      0.013       0.031       0.264\n",
      "Distance                      1.7014      0.488      3.486      0.001       0.743       2.660\n",
      "Average weekly passengers    -0.7429      0.326     -2.276      0.023      -1.384      -0.102\n",
      "market share                  1.6836      0.424      3.972      0.000       0.851       2.516\n",
      "Average fare1                43.4006      0.759     57.210      0.000      41.911      44.890\n",
      "market share1                -2.1094      0.439     -4.809      0.000      -2.971      -1.248\n",
      "price                        10.8899      0.720     15.115      0.000       9.475      12.304\n",
      "==============================================================================\n",
      "Omnibus:                       99.874   Durbin-Watson:                   2.005\n",
      "Prob(Omnibus):                  0.000   Jarque-Bera (JB):              425.072\n",
      "Skew:                           0.580   Prob(JB):                     4.98e-93\n",
      "Kurtosis:                       6.637   Cond. No.                         236.\n",
      "==============================================================================\n",
      "\n",
      "Warnings:\n",
      "[1] Standard Errors assume that the covariance matrix of the errors is correctly specified.\n"
     ]
    }
   ],
   "source": [
    "print(lm.summary())"
   ]
  },
  {
   "cell_type": "code",
   "execution_count": null,
   "metadata": {},
   "outputs": [],
   "source": []
  },
  {
   "cell_type": "markdown",
   "metadata": {},
   "source": [
    "# CHECKING FOR LINEAR ASSUMPTIONS\n",
    "\n"
   ]
  },
  {
   "cell_type": "markdown",
   "metadata": {},
   "source": [
    "# 1.NO AUTO CORRELATION\n",
    "\n",
    "DURBIN-WATSON : 2.005 (closer to 2 , no auto correlation)\n",
    "    \n",
    "  NO AUTO CORRELAION\n",
    "    \n",
    "[\n",
    "\n",
    "\n",
    "DB=2 , NO AUTO CORRELATION\n",
    "DB<2 : CLOSER TO 0 , POSITIVE AUTO CORRELATION\n",
    "DB>2 : CLOSER TO 4 , NEGATIVE AUTO CORRELATION\n",
    "\n",
    "The test statistic is equal to 2*(1-r) where r is the sample autocorrelation of the residuals.\n",
    "\n",
    "Thus for r==0 indicating no serial correlation, the test statistic equals 2.\n",
    "\n",
    "Closer to 0, more evidence for positive serial correlation and closer to 4 indicates negative serial correlation.\n",
    "\n",
    "]"
   ]
  },
  {
   "cell_type": "markdown",
   "metadata": {},
   "source": [
    "# 2.NO MULTICOLLINEARITY\n",
    "\n",
    "-> OLS MODEL DOES NOT THROW [ WARNING : PRESENCE OF MULTICOLLINEARITY ]\n",
    "\n",
    "    SO NO MULTI COLLINEARITY\n",
    "\n",
    "-> CHECKING MULTICOLLINEARITY WITH HEAT MAP\n",
    "\n",
    "-> VIF"
   ]
  },
  {
   "cell_type": "markdown",
   "metadata": {},
   "source": [
    "# HEAT MAP-CORRELATION"
   ]
  },
  {
   "cell_type": "code",
   "execution_count": 29,
   "metadata": {},
   "outputs": [
    {
     "data": {
      "image/png": "[encoded data removed]",
      "text/plain": [
       "<Figure size 1152x576 with 2 Axes>"
      ]
     },
     "metadata": {
      "needs_background": "light"
     },
     "output_type": "display_data"
    }
   ],
   "source": [
    "plt.figure(figsize=(16,8))\n",
    "sns.heatmap(df.corr(),annot=True)\n",
    "plt.show()"
   ]
  },
  {
   "cell_type": "markdown",
   "metadata": {},
   "source": [
    "# VIF"
   ]
  },
  {
   "cell_type": "code",
   "execution_count": 30,
   "metadata": {},
   "outputs": [],
   "source": [
    "#VIF - Variance Inflation Factor\n",
    "from statsmodels.stats.outliers_influence import variance_inflation_factor\n",
    "vif = pd.DataFrame()\n",
    "vif[\"VIF Values\"]=[variance_inflation_factor(x.values, col) \n",
    "                   for col in range(0, x.shape[1])]"
   ]
  },
  {
   "cell_type": "code",
   "execution_count": 31,
   "metadata": {},
   "outputs": [],
   "source": [
    "ce = ['City1', 'City2', 'market leading airline', 'Low price airline',\n",
    "       'Distance', 'Average weekly passengers', 'market share', 'Average fare1',\n",
    "       'market share1', 'price']"
   ]
  },
  {
   "cell_type": "code",
   "execution_count": 32,
   "metadata": {},
   "outputs": [],
   "source": [
    "vif[\"Feature Names\"] = ce"
   ]
  },
  {
   "cell_type": "code",
   "execution_count": 33,
   "metadata": {},
   "outputs": [
    {
     "data": {
      "text/html": [
       "<div>\n",
       "<style scoped>\n",
       "    .dataframe tbody tr th:only-of-type {\n",
       "        vertical-align: middle;\n",
       "    }\n",
       "\n",
       "    .dataframe tbody tr th {\n",
       "        vertical-align: top;\n",
       "    }\n",
       "\n",
       "    .dataframe thead th {\n",
       "        text-align: right;\n",
       "    }\n",
       "</style>\n",
       "<table border=\"1\" class=\"dataframe\">\n",
       "  <thead>\n",
       "    <tr style=\"text-align: right;\">\n",
       "      <th></th>\n",
       "      <th>VIF Values</th>\n",
       "      <th>Feature Names</th>\n",
       "    </tr>\n",
       "  </thead>\n",
       "  <tbody>\n",
       "    <tr>\n",
       "      <th>0</th>\n",
       "      <td>3.487933</td>\n",
       "      <td>City1</td>\n",
       "    </tr>\n",
       "    <tr>\n",
       "      <th>1</th>\n",
       "      <td>4.611549</td>\n",
       "      <td>City2</td>\n",
       "    </tr>\n",
       "    <tr>\n",
       "      <th>2</th>\n",
       "      <td>3.380312</td>\n",
       "      <td>market leading airline</td>\n",
       "    </tr>\n",
       "    <tr>\n",
       "      <th>3</th>\n",
       "      <td>3.771705</td>\n",
       "      <td>Low price airline</td>\n",
       "    </tr>\n",
       "    <tr>\n",
       "      <th>4</th>\n",
       "      <td>2.099403</td>\n",
       "      <td>Distance</td>\n",
       "    </tr>\n",
       "    <tr>\n",
       "      <th>5</th>\n",
       "      <td>1.057375</td>\n",
       "      <td>Average weekly passengers</td>\n",
       "    </tr>\n",
       "    <tr>\n",
       "      <th>6</th>\n",
       "      <td>1.582555</td>\n",
       "      <td>market share</td>\n",
       "    </tr>\n",
       "    <tr>\n",
       "      <th>7</th>\n",
       "      <td>4.754609</td>\n",
       "      <td>Average fare1</td>\n",
       "    </tr>\n",
       "    <tr>\n",
       "      <th>8</th>\n",
       "      <td>1.644946</td>\n",
       "      <td>market share1</td>\n",
       "    </tr>\n",
       "    <tr>\n",
       "      <th>9</th>\n",
       "      <td>4.244785</td>\n",
       "      <td>price</td>\n",
       "    </tr>\n",
       "  </tbody>\n",
       "</table>\n",
       "</div>"
      ],
      "text/plain": [
       "   VIF Values              Feature Names\n",
       "0    3.487933                      City1\n",
       "1    4.611549                      City2\n",
       "2    3.380312     market leading airline\n",
       "3    3.771705          Low price airline\n",
       "4    2.099403                   Distance\n",
       "5    1.057375  Average weekly passengers\n",
       "6    1.582555               market share\n",
       "7    4.754609              Average fare1\n",
       "8    1.644946              market share1\n",
       "9    4.244785                      price"
      ]
     },
     "execution_count": 33,
     "metadata": {},
     "output_type": "execute_result"
    }
   ],
   "source": [
    "vif"
   ]
  },
  {
   "cell_type": "markdown",
   "metadata": {},
   "source": [
    "# 3.NO HETEROSKEDASTICITY\n",
    "\n",
    "->BREUSH-PAGON TEST\n",
    "\n",
    "->GOLDFIELD QUANDT TEST\n",
    "\n",
    "\n",
    "Null Hypothesis - The Data is HOMOSCEDASTIC (Uniform Variance)\n",
    "\n",
    "Alternate Hypothesis - Data is HETEROSCEDASTIC( Unequal Variance)"
   ]
  },
  {
   "cell_type": "markdown",
   "metadata": {},
   "source": [
    "# GOLDFELD QUANDT TEST\n",
    "\n"
   ]
  },
  {
   "cell_type": "code",
   "execution_count": 34,
   "metadata": {},
   "outputs": [
    {
     "data": {
      "text/plain": [
       "(0.5107305176379157, 0.9999999999999113, 'increasing')"
      ]
     },
     "execution_count": 34,
     "metadata": {},
     "output_type": "execute_result"
    }
   ],
   "source": [
    "from statsmodels.stats.api import linear_rainbow, het_goldfeldquandt,het_breuschpagan\n",
    "het_goldfeldquandt(y, x)"
   ]
  },
  {
   "cell_type": "markdown",
   "metadata": {},
   "source": [
    "[f value , p value, increasing]\n",
    "\n",
    "p value=0.999 not lesser than 0.05 = >failed to reject null hypothesis\n",
    "\n",
    "accept null hypothesis : homoscedasticity\n",
    "\n",
    "alternate hypothesis is false\n",
    "\n",
    "(no heteroskedasticity)"
   ]
  },
  {
   "cell_type": "markdown",
   "metadata": {},
   "source": [
    "# BREUSH PAGAN TEST"
   ]
  },
  {
   "cell_type": "code",
   "execution_count": 35,
   "metadata": {},
   "outputs": [],
   "source": [
    "_,pval,_,f_pval=het_breuschpagan(y,x)"
   ]
  },
  {
   "cell_type": "code",
   "execution_count": 36,
   "metadata": {},
   "outputs": [
    {
     "name": "stdout",
     "output_type": "stream",
     "text": [
      "2.5498869033297465e-194 0.0\n"
     ]
    }
   ],
   "source": [
    "print(pval,f_pval)"
   ]
  },
  {
   "cell_type": "markdown",
   "metadata": {},
   "source": [
    "pvalue=2.54 e^-194 lesser than 0.05 => reject null hypothesis\n",
    "\n",
    "so alternate hypothesis : true\n",
    "    \n",
    "(heteroscedasticity)"
   ]
  },
  {
   "cell_type": "code",
   "execution_count": null,
   "metadata": {},
   "outputs": [],
   "source": []
  },
  {
   "cell_type": "markdown",
   "metadata": {},
   "source": [
    "# NORMALITY"
   ]
  },
  {
   "cell_type": "markdown",
   "metadata": {},
   "source": [
    "Null Hypothesis - The Data is following the Gaussian pattern\n",
    "\n",
    "Alternate Hypothesis - Data is not following the Gaussian Pattern"
   ]
  },
  {
   "cell_type": "markdown",
   "metadata": {},
   "source": [
    "# SHAPIRO-WILK TEST"
   ]
  },
  {
   "cell_type": "code",
   "execution_count": 37,
   "metadata": {},
   "outputs": [
    {
     "data": {
      "text/plain": [
       "(0.93499755859375, 6.778334176543745e-17)"
      ]
     },
     "execution_count": 37,
     "metadata": {},
     "output_type": "execute_result"
    }
   ],
   "source": [
    "from scipy.stats import shapiro\n",
    "shapiro(lm.resid)\n",
    "#shapiro(x)"
   ]
  },
  {
   "cell_type": "markdown",
   "metadata": {},
   "source": [
    "[fvalue,pvalue] \n",
    "\n",
    "pvalue : lesser than 0.05 : reject null hypothesis\n",
    "\n",
    "alternate hypothesis : true\n",
    "    \n",
    "so data is not normal\n"
   ]
  },
  {
   "cell_type": "code",
   "execution_count": 38,
   "metadata": {},
   "outputs": [],
   "source": [
    "#from scipy.stats import anderson,kstest\n",
    "#anderson(x,dist='norm')\n",
    "#kstest(  )"
   ]
  },
  {
   "cell_type": "markdown",
   "metadata": {},
   "source": [
    "# QQ PLOT (QUANTILE QUANTILE PLOT)"
   ]
  },
  {
   "cell_type": "code",
   "execution_count": 39,
   "metadata": {},
   "outputs": [
    {
     "data": {
      "image/png": "[encoded data removed]",
      "text/plain": [
       "<Figure size 432x288 with 1 Axes>"
      ]
     },
     "metadata": {
      "needs_background": "light"
     },
     "output_type": "display_data"
    }
   ],
   "source": [
    "# QQ Plot - Showing that the residuals are not normal\n",
    "import matplotlib.pyplot as plt\n",
    "import scipy.stats as stats\n",
    "import pylab\n",
    "\n",
    "# Finding the Values\n",
    "fittedvalues = lm.fittedvalues\n",
    "residuals = lm.resid\n",
    "st_residual = lm.get_influence().resid_studentized_internal\n",
    "\n",
    "stats.probplot(st_residual, dist=\"norm\", plot=pylab)\n",
    "plt.show()"
   ]
  },
  {
   "cell_type": "code",
   "execution_count": null,
   "metadata": {},
   "outputs": [],
   "source": []
  },
  {
   "cell_type": "markdown",
   "metadata": {},
   "source": [
    "# LINEARITY \n",
    "\n",
    "1. RAINBOW TEST\n",
    "\n",
    "2. RESIDUAL PLOT"
   ]
  },
  {
   "cell_type": "markdown",
   "metadata": {},
   "source": [
    "# RAINBOW TEST\n",
    "\n",
    "Null Hypothesis - The Data is following the linear pattern\n",
    "\n",
    "Alternate Hypothesis - Data is not following the Linear Pattern"
   ]
  },
  {
   "cell_type": "code",
   "execution_count": 40,
   "metadata": {},
   "outputs": [
    {
     "data": {
      "text/plain": [
       "(1.013685343783798, 0.4500807772584523)"
      ]
     },
     "execution_count": 40,
     "metadata": {},
     "output_type": "execute_result"
    }
   ],
   "source": [
    "linear_rainbow(lm)"
   ]
  },
  {
   "cell_type": "markdown",
   "metadata": {},
   "source": [
    "[fvalue , pvalue]\n",
    "\n",
    "pvalue=0.2 > 0.05 : failed to reject null hypothesis\n",
    "    \n",
    "accept null hypothesis\n",
    "\n",
    "alternate hypothesis : false\n",
    "\n",
    "(linearity)"
   ]
  },
  {
   "cell_type": "markdown",
   "metadata": {},
   "source": [
    "# RESIDUAL PLOT \n",
    "\n",
    "-> IF RESIDUALS ARE SCATTERED , LINEAR\n",
    "\n",
    "-> IF RESIDUALS FOLLOW A PATTERN , NOT LINEAR"
   ]
  },
  {
   "cell_type": "code",
   "execution_count": 41,
   "metadata": {},
   "outputs": [],
   "source": [
    "fittedvalues = lm.fittedvalues\n",
    "residuals = lm.resid\n",
    "st_residual = lm.get_influence().resid_studentized_internal"
   ]
  },
  {
   "cell_type": "code",
   "execution_count": 42,
   "metadata": {},
   "outputs": [
    {
     "data": {
      "text/plain": [
       "<matplotlib.axes._subplots.AxesSubplot at 0x1f2214d1940>"
      ]
     },
     "execution_count": 42,
     "metadata": {},
     "output_type": "execute_result"
    },
    {
     "data": {
      "image/png": "[encoded data removed]",
      "text/plain": [
       "<Figure size 432x288 with 1 Axes>"
      ]
     },
     "metadata": {
      "needs_background": "light"
     },
     "output_type": "display_data"
    }
   ],
   "source": [
    "# Residual Plot\n",
    "import seaborn as sns\n",
    "sns.residplot(fittedvalues, residuals, color=\"r\", lowess=True)"
   ]
  },
  {
   "cell_type": "markdown",
   "metadata": {},
   "source": [
    "LINEARITY SHOWN"
   ]
  },
  {
   "cell_type": "markdown",
   "metadata": {},
   "source": [
    "\n",
    "\n",
    "SO AMONG ALL ASSUMPTIONS , ATLEAST 3 ASSUMPTIONS ARE SATISFIED\n",
    "\n",
    "NO AUTO CORRELATION - PROVED\n",
    "NO MULTI COLLINEARITY - PROVED\n",
    "NO HETEROSCEDASTICITY - DOUBT\n",
    "NORMALITY - FAILED\n",
    "LINEARITY - PROVED"
   ]
  },
  {
   "cell_type": "markdown",
   "metadata": {},
   "source": [
    "# SIMPLE LINEAR REGRESSION MODEL"
   ]
  },
  {
   "cell_type": "code",
   "execution_count": 43,
   "metadata": {},
   "outputs": [],
   "source": [
    "from sklearn.linear_model import LinearRegression"
   ]
  },
  {
   "cell_type": "code",
   "execution_count": 44,
   "metadata": {},
   "outputs": [],
   "source": [
    "lm1=LinearRegression()"
   ]
  },
  {
   "cell_type": "code",
   "execution_count": 45,
   "metadata": {},
   "outputs": [
    {
     "data": {
      "text/plain": [
       "LinearRegression(copy_X=True, fit_intercept=True, n_jobs=None, normalize=False)"
      ]
     },
     "execution_count": 45,
     "metadata": {},
     "output_type": "execute_result"
    }
   ],
   "source": [
    "lm1.fit(x_train,y_train)"
   ]
  },
  {
   "cell_type": "code",
   "execution_count": 46,
   "metadata": {},
   "outputs": [],
   "source": [
    "y_pred=lm1.predict(x_test)"
   ]
  },
  {
   "cell_type": "code",
   "execution_count": 47,
   "metadata": {},
   "outputs": [],
   "source": [
    "y_pred_train =lm1.predict(x_train)"
   ]
  },
  {
   "cell_type": "code",
   "execution_count": 48,
   "metadata": {},
   "outputs": [],
   "source": [
    "from sklearn.metrics import r2_score,mean_absolute_error, mean_squared_error"
   ]
  },
  {
   "cell_type": "code",
   "execution_count": 49,
   "metadata": {},
   "outputs": [
    {
     "name": "stdout",
     "output_type": "stream",
     "text": [
      "r2_score_train:: 0.9745319766665045\n",
      "r2_score_test:: 0.9761289822556631\n",
      "mae:: 6.189957678429106\n",
      "mse:: 75.17413523893345\n",
      "rmse:: 8.670301911636841\n"
     ]
    }
   ],
   "source": [
    "print(\"r2_score_train::\",r2_score(y_true=y_train, y_pred=y_pred_train))\n",
    "print(\"r2_score_test::\",r2_score(y_true=y_test, y_pred=y_pred))\n",
    "print(\"mae::\",mean_absolute_error(y_test,y_pred))\n",
    "print(\"mse::\",mean_squared_error(y_test,y_pred))\n",
    "print(\"rmse::\",np.sqrt(mean_squared_error(y_test,y_pred)))"
   ]
  },
  {
   "cell_type": "code",
   "execution_count": null,
   "metadata": {},
   "outputs": [],
   "source": []
  },
  {
   "cell_type": "markdown",
   "metadata": {},
   "source": [
    "# OLS MODEL FOR ENTIRE DATASET"
   ]
  },
  {
   "cell_type": "code",
   "execution_count": 50,
   "metadata": {},
   "outputs": [
    {
     "name": "stderr",
     "output_type": "stream",
     "text": [
      "C:\\Users\\RAMASAMY\\Anaconda3\\lib\\site-packages\\numpy\\core\\fromnumeric.py:2389: FutureWarning: Method .ptp is deprecated and will be removed in a future version. Use numpy.ptp instead.\n",
      "  return ptp(axis=axis, out=out, **kwargs)\n"
     ]
    }
   ],
   "source": [
    "X=sm.add_constant(x)\n",
    "new_model = sm.OLS(y,X).fit() # Fitting the Model on the Data\n",
    "new_pred = new_model.predict(X)"
   ]
  },
  {
   "cell_type": "code",
   "execution_count": 51,
   "metadata": {},
   "outputs": [
    {
     "name": "stdout",
     "output_type": "stream",
     "text": [
      "                            OLS Regression Results                            \n",
      "==============================================================================\n",
      "Dep. Variable:           Average Fare   R-squared:                       0.975\n",
      "Model:                            OLS   Adj. R-squared:                  0.975\n",
      "Method:                 Least Squares   F-statistic:                     3882.\n",
      "Date:                Sat, 07 Sep 2019   Prob (F-statistic):               0.00\n",
      "Time:                        15:11:26   Log-Likelihood:                -3584.8\n",
      "No. Observations:                1000   AIC:                             7192.\n",
      "Df Residuals:                     989   BIC:                             7246.\n",
      "Df Model:                          10                                         \n",
      "Covariance Type:            nonrobust                                         \n",
      "=============================================================================================\n",
      "                                coef    std err          t      P>|t|      [0.025      0.975]\n",
      "---------------------------------------------------------------------------------------------\n",
      "const                       165.0641      0.946    174.537      0.000     163.208     166.920\n",
      "City1                         0.0148      0.013      1.176      0.240      -0.010       0.040\n",
      "City2                        -0.0239      0.013     -1.799      0.072      -0.050       0.002\n",
      "market leading airline       -0.3146      0.056     -5.579      0.000      -0.425      -0.204\n",
      "Low price airline             0.1533      0.050      3.092      0.002       0.056       0.251\n",
      "Distance                      1.6591      0.405      4.093      0.000       0.864       2.455\n",
      "Average weekly passengers    -0.8889      0.286     -3.112      0.002      -1.449      -0.328\n",
      "market share                  1.3501      0.349      3.869      0.000       0.665       2.035\n",
      "Average fare1                43.8430      0.605     72.444      0.000      42.655      45.031\n",
      "market share1                -1.8329      0.360     -5.089      0.000      -2.540      -1.126\n",
      "price                        10.3309      0.575     17.974      0.000       9.203      11.459\n",
      "==============================================================================\n",
      "Omnibus:                      125.962   Durbin-Watson:                   1.856\n",
      "Prob(Omnibus):                  0.000   Jarque-Bera (JB):              597.159\n",
      "Skew:                           0.479   Prob(JB):                    2.13e-130\n",
      "Kurtosis:                       6.662   Cond. No.                         233.\n",
      "==============================================================================\n",
      "\n",
      "Warnings:\n",
      "[1] Standard Errors assume that the covariance matrix of the errors is correctly specified.\n"
     ]
    }
   ],
   "source": [
    "print(new_model.summary())"
   ]
  },
  {
   "cell_type": "code",
   "execution_count": null,
   "metadata": {},
   "outputs": [],
   "source": []
  },
  {
   "cell_type": "markdown",
   "metadata": {},
   "source": [
    "# OLS MODEL WITH POLYNOMIAL FEATURES\n",
    "\n",
    "ONLY WHEN THERE IS NO LINEARITY , WE TRANSFORM DATA INTO POLYNOMIAL SO IT CAN ACHIEVE LINEARITY IN MULTI DIMENSIONAL SPACE\n",
    "\n",
    "THE MODEL MAY SHOW HIGH R2 SCORE, BUT AT THE SAME TIME , IT ALSO SHOWS MULTI COLLINEARITY WHICH WAS NOT PRESENT BEFORE. PROBABLY DUE TO OVERFITTING"
   ]
  },
  {
   "cell_type": "code",
   "execution_count": 52,
   "metadata": {},
   "outputs": [],
   "source": [
    "from sklearn.preprocessing import PolynomialFeatures"
   ]
  },
  {
   "cell_type": "code",
   "execution_count": 53,
   "metadata": {},
   "outputs": [],
   "source": [
    "pf=PolynomialFeatures()"
   ]
  },
  {
   "cell_type": "code",
   "execution_count": 54,
   "metadata": {},
   "outputs": [],
   "source": [
    "X = pf.fit_transform(x)"
   ]
  },
  {
   "cell_type": "code",
   "execution_count": 55,
   "metadata": {},
   "outputs": [],
   "source": [
    "# Building the Model\n",
    "pf_model = sm.OLS(y,X).fit() # Fitting the Model on the Data\n",
    "pf_pred = pf_model.predict(X) # Making Prediction on X values \n",
    "st_residual = pf_model.get_influence().resid_studentized_internal"
   ]
  },
  {
   "cell_type": "code",
   "execution_count": 56,
   "metadata": {},
   "outputs": [
    {
     "name": "stdout",
     "output_type": "stream",
     "text": [
      "                            OLS Regression Results                            \n",
      "==============================================================================\n",
      "Dep. Variable:           Average Fare   R-squared:                       0.989\n",
      "Model:                            OLS   Adj. R-squared:                  0.988\n",
      "Method:                 Least Squares   F-statistic:                     1288.\n",
      "Date:                Sat, 07 Sep 2019   Prob (F-statistic):               0.00\n",
      "Time:                        15:11:27   Log-Likelihood:                -3178.8\n",
      "No. Observations:                1000   AIC:                             6490.\n",
      "Df Residuals:                     934   BIC:                             6814.\n",
      "Df Model:                          65                                         \n",
      "Covariance Type:            nonrobust                                         \n",
      "==============================================================================\n",
      "                 coef    std err          t      P>|t|      [0.025      0.975]\n",
      "------------------------------------------------------------------------------\n",
      "const        161.3466      1.782     90.562      0.000     157.850     164.843\n",
      "x1             0.0393      0.042      0.936      0.350      -0.043       0.122\n",
      "x2            -0.0688      0.047     -1.456      0.146      -0.162       0.024\n",
      "x3            -0.9057      0.251     -3.612      0.000      -1.398      -0.414\n",
      "x4             0.2471      0.193      1.279      0.201      -0.132       0.626\n",
      "x5             1.5035      1.055      1.425      0.154      -0.567       3.574\n",
      "x6            -3.1148      0.922     -3.379      0.001      -4.924      -1.306\n",
      "x7            -2.6088      1.088     -2.399      0.017      -4.743      -0.474\n",
      "x8            32.9537      2.154     15.297      0.000      28.726      37.181\n",
      "x9            -3.4962      1.098     -3.183      0.002      -5.652      -1.340\n",
      "x10           19.1143      1.860     10.276      0.000      15.464      22.765\n",
      "x11        -4.496e-05      0.000     -0.111      0.912      -0.001       0.001\n",
      "x12           -0.0007      0.000     -1.674      0.094      -0.002       0.000\n",
      "x13           -0.0007      0.002     -0.393      0.695      -0.004       0.003\n",
      "x14            0.0024      0.002      1.487      0.137      -0.001       0.005\n",
      "x15            0.0141      0.014      1.000      0.318      -0.014       0.042\n",
      "x16            0.0121      0.011      1.057      0.291      -0.010       0.034\n",
      "x17           -0.0106      0.011     -0.950      0.342      -0.033       0.011\n",
      "x18           -0.0210      0.021     -0.994      0.321      -0.062       0.020\n",
      "x19           -0.0009      0.011     -0.082      0.935      -0.023       0.021\n",
      "x20            0.0228      0.019      1.182      0.238      -0.015       0.061\n",
      "x21            0.0006      0.000      1.459      0.145      -0.000       0.001\n",
      "x22            0.0032      0.002      1.616      0.106      -0.001       0.007\n",
      "x23         5.816e-05      0.002      0.032      0.974      -0.003       0.004\n",
      "x24           -0.0161      0.015     -1.060      0.289      -0.046       0.014\n",
      "x25            0.0175      0.013      1.297      0.195      -0.009       0.044\n",
      "x26            0.0072      0.012      0.615      0.538      -0.016       0.030\n",
      "x27            0.0447      0.022      1.994      0.046       0.001       0.089\n",
      "x28           -0.0075      0.012     -0.627      0.531      -0.031       0.016\n",
      "x29           -0.0286      0.021     -1.368      0.172      -0.070       0.012\n",
      "x30            0.0259      0.013      1.954      0.051      -0.000       0.052\n",
      "x31            0.0227      0.008      2.892      0.004       0.007       0.038\n",
      "x32           -0.0806      0.065     -1.242      0.214      -0.208       0.047\n",
      "x33            0.1087      0.057      1.905      0.057      -0.003       0.221\n",
      "x34            0.0487      0.062      0.786      0.432      -0.073       0.170\n",
      "x35           -0.0490      0.106     -0.464      0.643      -0.256       0.158\n",
      "x36            0.0251      0.105      0.240      0.811      -0.181       0.231\n",
      "x37            0.0712      0.094      0.759      0.448      -0.113       0.255\n",
      "x38           -0.0266      0.008     -3.360      0.001      -0.042      -0.011\n",
      "x39            0.0232      0.055      0.425      0.671      -0.084       0.131\n",
      "x40            0.0379      0.048      0.782      0.434      -0.057       0.133\n",
      "x41           -0.0049      0.057     -0.085      0.932      -0.117       0.107\n",
      "x42           -0.0077      0.092     -0.084      0.933      -0.187       0.172\n",
      "x43            0.0007      0.092      0.008      0.993      -0.180       0.181\n",
      "x44            0.0575      0.084      0.684      0.494      -0.107       0.222\n",
      "x45            1.1297      0.311      3.637      0.000       0.520       1.739\n",
      "x46           -0.4170      0.383     -1.089      0.277      -1.169       0.335\n",
      "x47            0.1776      0.427      0.416      0.677      -0.660       1.015\n",
      "x48            0.4475      0.776      0.577      0.564      -1.076       1.970\n",
      "x49            0.9086      0.487      1.867      0.062      -0.047       1.864\n",
      "x50           -0.9832      0.678     -1.450      0.147      -2.314       0.348\n",
      "x51            0.1091      0.080      1.358      0.175      -0.049       0.267\n",
      "x52           -0.1319      0.344     -0.383      0.702      -0.807       0.543\n",
      "x53            0.1462      0.591      0.247      0.805      -1.014       1.307\n",
      "x54           -0.5180      0.384     -1.350      0.177      -1.271       0.235\n",
      "x55           -0.1775      0.675     -0.263      0.793      -1.502       1.148\n",
      "x56           -0.0687      0.374     -0.183      0.855      -0.803       0.666\n",
      "x57            7.6711      0.752     10.200      0.000       6.195       9.147\n",
      "x58           -2.2143      0.542     -4.083      0.000      -3.279      -1.150\n",
      "x59           -5.5850      0.651     -8.584      0.000      -6.862      -4.308\n",
      "x60           -0.5857      0.491     -1.193      0.233      -1.549       0.378\n",
      "x61          -12.3606      1.841     -6.716      0.000     -15.973      -8.749\n",
      "x62            0.6831      1.010      0.677      0.499      -1.298       2.665\n",
      "x63            3.1990      0.971      3.294      0.001       1.293       5.105\n",
      "x64            8.8131      1.479      5.958      0.000       5.910      11.716\n",
      "x65           -0.9362      0.624     -1.501      0.134      -2.160       0.288\n",
      "==============================================================================\n",
      "Omnibus:                      365.996   Durbin-Watson:                   1.827\n",
      "Prob(Omnibus):                  0.000   Jarque-Bera (JB):             2584.096\n",
      "Skew:                           1.498   Prob(JB):                         0.00\n",
      "Kurtosis:                      10.283   Cond. No.                     8.98e+04\n",
      "==============================================================================\n",
      "\n",
      "Warnings:\n",
      "[1] Standard Errors assume that the covariance matrix of the errors is correctly specified.\n",
      "[2] The condition number is large, 8.98e+04. This might indicate that there are\n",
      "strong multicollinearity or other numerical problems.\n"
     ]
    }
   ],
   "source": [
    "print(pf_model.summary())"
   ]
  },
  {
   "cell_type": "code",
   "execution_count": 57,
   "metadata": {},
   "outputs": [
    {
     "name": "stdout",
     "output_type": "stream",
     "text": [
      "r2_score_test:: 0.9889705802104025\n",
      "mae:: 3.839983233701458\n",
      "mse:: 33.77506092685079\n",
      "rmse:: 5.811631520223111\n"
     ]
    }
   ],
   "source": [
    "print(\"r2_score_test::\",r2_score(y_true=y, y_pred=pf_pred))\n",
    "print(\"mae::\",mean_absolute_error(y,pf_pred))\n",
    "print(\"mse::\",mean_squared_error(y,pf_pred))\n",
    "print(\"rmse::\",np.sqrt(mean_squared_error(y,pf_pred)))"
   ]
  },
  {
   "cell_type": "markdown",
   "metadata": {},
   "source": [
    "# ENSEMBLE MODELS : RANDOM FOREST REGRESSOR AND BAGGING REGRESSOR"
   ]
  },
  {
   "cell_type": "code",
   "execution_count": null,
   "metadata": {},
   "outputs": [],
   "source": [
    "\n",
    "from sklearn.ensemble import RandomForestRegressor, BaggingRegressor"
   ]
  },
  {
   "cell_type": "code",
   "execution_count": 59,
   "metadata": {},
   "outputs": [],
   "source": [
    "\n",
    "rf = RandomForestRegressor()\n",
    "bag = BaggingRegressor()"
   ]
  },
  {
   "cell_type": "code",
   "execution_count": 60,
   "metadata": {},
   "outputs": [
    {
     "name": "stderr",
     "output_type": "stream",
     "text": [
      "C:\\Users\\RAMASAMY\\Anaconda3\\lib\\site-packages\\sklearn\\ensemble\\forest.py:245: FutureWarning: The default value of n_estimators will change from 10 in version 0.20 to 100 in 0.22.\n",
      "  \"10 in version 0.20 to 100 in 0.22.\", FutureWarning)\n"
     ]
    }
   ],
   "source": [
    "# Random Forest\n",
    "rf.fit(x_train,y_train)\n",
    "pred_rf = rf.predict(x_test)\n"
   ]
  },
  {
   "cell_type": "code",
   "execution_count": 65,
   "metadata": {},
   "outputs": [
    {
     "name": "stdout",
     "output_type": "stream",
     "text": [
      "r2_score_test:: 0.9726946251906029\n",
      "mae:: 5.4525000000000015\n",
      "mse:: 82.30592374666669\n",
      "rmse:: 9.07226122566291\n"
     ]
    }
   ],
   "source": [
    "print(\"r2_score_test::\",r2_score(pred_rf,y_test))\n",
    "print(\"mae::\",mean_absolute_error(y_test,pred_rf))\n",
    "print(\"mse::\",mean_squared_error(y_test,pred_rf))\n",
    "print(\"rmse::\",np.sqrt(mean_squared_error(y_test,pred_rf)))"
   ]
  },
  {
   "cell_type": "code",
   "execution_count": 62,
   "metadata": {},
   "outputs": [],
   "source": [
    "# Bagging\n",
    "bag.fit(x_train,y_train)\n",
    "pred_bag = bag.predict(x_test)\n"
   ]
  },
  {
   "cell_type": "code",
   "execution_count": 63,
   "metadata": {},
   "outputs": [
    {
     "name": "stdout",
     "output_type": "stream",
     "text": [
      "r2_score_test:: 0.975249938385213\n",
      "mae:: 5.4980400000000005\n",
      "mse:: 77.9424027466667\n",
      "rmse:: 8.828499461780961\n"
     ]
    }
   ],
   "source": [
    "print(\"r2_score_test::\",r2_score(y_true=y_test, y_pred=pred_bag))\n",
    "print(\"mae::\",mean_absolute_error(y_test,pred_bag))\n",
    "print(\"mse::\",mean_squared_error(y_test,pred_bag))\n",
    "print(\"rmse::\",np.sqrt(mean_squared_error(y_test,pred_bag)))"
   ]
  },
  {
   "cell_type": "code",
   "execution_count": null,
   "metadata": {},
   "outputs": [],
   "source": []
  }
 ],
 "metadata": {
  "kernelspec": {
   "display_name": "Python 3",
   "language": "python",
   "name": "python3"
  },
  "language_info": {
   "codemirror_mode": {
    "name": "ipython",
    "version": 3
   },
   "file_extension": ".py",
   "mimetype": "text/x-python",
   "name": "python",
   "nbconvert_exporter": "python",
   "pygments_lexer": "ipython3",
   "version": "3.6.8"
  }
 },
 "nbformat": 4,
 "nbformat_minor": 2
}
